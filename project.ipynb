{
 "cells": [
  {
   "cell_type": "code",
   "execution_count": 1,
   "id": "c041a4ce",
   "metadata": {},
   "outputs": [
    {
     "name": "stderr",
     "output_type": "stream",
     "text": [
      "WARNING: An illegal reflective access operation has occurred\n",
      "WARNING: Illegal reflective access by org.apache.spark.unsafe.Platform (file:/home/ubuntu/spark-3.2.1-bin-hadoop2.7/jars/spark-unsafe_2.12-3.2.1.jar) to constructor java.nio.DirectByteBuffer(long,int)\n",
      "WARNING: Please consider reporting this to the maintainers of org.apache.spark.unsafe.Platform\n",
      "WARNING: Use --illegal-access=warn to enable warnings of further illegal reflective access operations\n",
      "WARNING: All illegal access operations will be denied in a future release\n",
      "Using Spark's default log4j profile: org/apache/spark/log4j-defaults.properties\n",
      "Setting default log level to \"WARN\".\n",
      "To adjust logging level use sc.setLogLevel(newLevel). For SparkR, use setLogLevel(newLevel).\n",
      "22/10/07 02:37:12 WARN NativeCodeLoader: Unable to load native-hadoop library for your platform... using builtin-java classes where applicable\n"
     ]
    }
   ],
   "source": [
    "import findspark\n",
    "findspark.init('/home/ubuntu/spark-3.2.1-bin-hadoop2.7')\n",
    "import pyspark\n",
    "from pyspark.sql import SparkSession\n",
    "spark = SparkSession.builder.appName('Name_722').getOrCreate()"
   ]
  },
  {
   "cell_type": "code",
   "execution_count": 2,
   "id": "8b87215c",
   "metadata": {},
   "outputs": [],
   "source": [
    "df = spark.read.load(\"./AQUASTAT.csv\", format=\"csv\",header = \"true\")"
   ]
  },
  {
   "cell_type": "code",
   "execution_count": 3,
   "id": "1eca2fb4",
   "metadata": {},
   "outputs": [
    {
     "name": "stdout",
     "output_type": "stream",
     "text": [
      "+-----------------------------+-----------+---------------+---+--------------------+--------------------+-------------------+-------------------+------+--------------------+-------+---------+\n",
      "|Country & Variable (Combined)|    Country|         Region|M49|            Variable|           Variables|               Unit|              Units|Symbol|  Symbol Description|Symbols|     2019|\n",
      "+-----------------------------+-----------+---------------+---+--------------------+--------------------+-------------------+-------------------+------+--------------------+-------+---------+\n",
      "|         Afghanistan, GDP ...|Afghanistan|  Southern Asia|  4|GDP per capita (c...|      GDP per capita|(current US$/inhab)|(current US$/inhab)|   I  |Imputed (carry fo...|    I  |   563.98|\n",
      "|         Afghanistan, Tota...|Afghanistan|  Southern Asia|  4|Total dam capacit...|  Total dam capacity|              (km3)|              (km3)|   E  |Estimate either c...|    E  |     2.01|\n",
      "|         Afghanistan, Tota...|Afghanistan|  Southern Asia|  4|Total population ...|    Total population|       (1000 inhab)|       (1000 inhab)|   X  |External value (r...|    X  |38,041.75|\n",
      "|         Afghanistan, Tota...|Afghanistan|  Southern Asia|  4|Total renewable w...|Total renewable w...|     (10^9 m3/year)|     (10^9 m3/year)|   I  |Imputed (carry fo...|    I  |    65.33|\n",
      "|         Afghanistan, Tota...|Afghanistan|  Southern Asia|  4|Total water withd...|Total water withd...|     (10^9 m3/year)|     (10^9 m3/year)|   E  |Estimate either c...|    E  |    20.37|\n",
      "|         Albania, GDP per ...|    Albania|Southern Europe|  8|GDP per capita (c...|      GDP per capita|(current US$/inhab)|(current US$/inhab)|   I  |Imputed (carry fo...|    I  | 5,131.91|\n",
      "|         Albania, Total da...|    Albania|Southern Europe|  8|Total dam capacit...|  Total dam capacity|              (km3)|              (km3)|   E  |Estimate either c...|    E  |     4.03|\n",
      "|         Albania, Total po...|    Albania|Southern Europe|  8|Total population ...|    Total population|       (1000 inhab)|       (1000 inhab)|   X  |External value (r...|    X  | 2,880.92|\n",
      "|         Albania, Total re...|    Albania|Southern Europe|  8|Total renewable w...|Total renewable w...|     (10^9 m3/year)|     (10^9 m3/year)|   I  |Imputed (carry fo...|    I  |     30.2|\n",
      "|         Albania, Total wa...|    Albania|Southern Europe|  8|Total water withd...|Total water withd...|     (10^9 m3/year)|     (10^9 m3/year)|      |Official value, d...|       |     1.13|\n",
      "|         Algeria, GDP per ...|    Algeria|Northern Africa| 12|GDP per capita (c...|      GDP per capita|(current US$/inhab)|(current US$/inhab)|   I  |Imputed (carry fo...|    I  | 4,136.29|\n",
      "|         Algeria, Total da...|    Algeria|Northern Africa| 12|Total dam capacit...|  Total dam capacity|              (km3)|              (km3)|   E  |Estimate either c...|    E  |     8.62|\n",
      "|         Algeria, Total po...|    Algeria|Northern Africa| 12|Total population ...|    Total population|       (1000 inhab)|       (1000 inhab)|   X  |External value (r...|    X  |43,053.05|\n",
      "|         Algeria, Total re...|    Algeria|Northern Africa| 12|Total renewable w...|Total renewable w...|     (10^9 m3/year)|     (10^9 m3/year)|   I  |Imputed (carry fo...|    I  |    11.67|\n",
      "|         Algeria, Total wa...|    Algeria|Northern Africa| 12|Total water withd...|Total water withd...|     (10^9 m3/year)|     (10^9 m3/year)|   I  |Imputed (carry fo...|    I  |    10.46|\n",
      "|         Andorra, GDP per ...|    Andorra|Southern Europe| 20|GDP per capita (c...|      GDP per capita|(current US$/inhab)|(current US$/inhab)|   I  |Imputed (carry fo...|    I  |42,080.56|\n",
      "|         Andorra, Total po...|    Andorra|Southern Europe| 20|Total population ...|    Total population|       (1000 inhab)|       (1000 inhab)|   X  |External value (r...|    X  |    77.14|\n",
      "|         Andorra, Total re...|    Andorra|Southern Europe| 20|Total renewable w...|Total renewable w...|     (10^9 m3/year)|     (10^9 m3/year)|   I  |Imputed (carry fo...|    I  |     0.32|\n",
      "|         Angola, GDP per c...|     Angola|  Middle Africa| 24|GDP per capita (c...|      GDP per capita|(current US$/inhab)|(current US$/inhab)|   I  |Imputed (carry fo...|    I  | 3,441.27|\n",
      "|         Angola, Total dam...|     Angola|  Middle Africa| 24|Total dam capacit...|  Total dam capacity|              (km3)|              (km3)|   E  |Estimate either c...|    E  |     9.45|\n",
      "+-----------------------------+-----------+---------------+---+--------------------+--------------------+-------------------+-------------------+------+--------------------+-------+---------+\n",
      "only showing top 20 rows\n",
      "\n"
     ]
    }
   ],
   "source": [
    "df.show()"
   ]
  },
  {
   "cell_type": "code",
   "execution_count": 4,
   "id": "d2387b17",
   "metadata": {},
   "outputs": [
    {
     "data": {
      "text/plain": [
       "['Country & Variable (Combined)',\n",
       " 'Country',\n",
       " 'Region',\n",
       " 'M49',\n",
       " 'Variable',\n",
       " 'Variables',\n",
       " 'Unit',\n",
       " 'Units',\n",
       " 'Symbol',\n",
       " 'Symbol Description',\n",
       " 'Symbols',\n",
       " '2019']"
      ]
     },
     "execution_count": 4,
     "metadata": {},
     "output_type": "execute_result"
    }
   ],
   "source": [
    "df.columns"
   ]
  },
  {
   "cell_type": "code",
   "execution_count": 5,
   "id": "143c9b9e",
   "metadata": {},
   "outputs": [
    {
     "name": "stderr",
     "output_type": "stream",
     "text": [
      "                                                                                \r"
     ]
    },
    {
     "name": "stdout",
     "output_type": "stream",
     "text": [
      "+-------+-----------------------------+-----------+--------------------+-----------------+--------------------+--------------------+------------+------------+------+--------------------+-------+------------------+\n",
      "|summary|Country & Variable (Combined)|    Country|              Region|              M49|            Variable|           Variables|        Unit|       Units|Symbol|  Symbol Description|Symbols|              2019|\n",
      "+-------+-----------------------------+-----------+--------------------+-----------------+--------------------+--------------------+------------+------------+------+--------------------+-------+------------------+\n",
      "|  count|                          937|        937|                 937|              937|                 937|                 937|         937|         937|   937|                 937|    937|               937|\n",
      "|   mean|                         null|       null|                null|432.9413020277481|                null|                null|        null|        null|  null|                null|   null| 105.2953244592345|\n",
      "| stddev|                         null|       null|                null|253.0868651164197|                null|                null|        null|        null|  null|                null|   null|215.59155518078524|\n",
      "|    min|         Afghanistan, GDP ...|Afghanistan|Australia and New...|              100|GDP per capita (c...|      GDP per capita|(1000 inhab)|(1000 inhab)|      |Estimate either c...|       |                 0|\n",
      "|    max|         Zimbabwe, Total w...|   Zimbabwe|      Western Europe|               96|Total water withd...|Total water withd...|       (km3)|       (km3)|   X  |Official value, d...|    X  |            994.45|\n",
      "+-------+-----------------------------+-----------+--------------------+-----------------+--------------------+--------------------+------------+------------+------+--------------------+-------+------------------+\n",
      "\n"
     ]
    }
   ],
   "source": [
    "df.describe().show()"
   ]
  },
  {
   "cell_type": "code",
   "execution_count": 6,
   "id": "30dcc8b8",
   "metadata": {},
   "outputs": [
    {
     "name": "stdout",
     "output_type": "stream",
     "text": [
      "root\n",
      " |-- Country & Variable (Combined): string (nullable = true)\n",
      " |-- Country: string (nullable = true)\n",
      " |-- Region: string (nullable = true)\n",
      " |-- M49: string (nullable = true)\n",
      " |-- Variable: string (nullable = true)\n",
      " |-- Variables: string (nullable = true)\n",
      " |-- Unit: string (nullable = true)\n",
      " |-- Units: string (nullable = true)\n",
      " |-- Symbol: string (nullable = true)\n",
      " |-- Symbol Description: string (nullable = true)\n",
      " |-- Symbols: string (nullable = true)\n",
      " |-- 2019: string (nullable = true)\n",
      "\n"
     ]
    }
   ],
   "source": [
    "df.printSchema()"
   ]
  },
  {
   "cell_type": "code",
   "execution_count": 7,
   "id": "a85b56e5",
   "metadata": {},
   "outputs": [
    {
     "name": "stdout",
     "output_type": "stream",
     "text": [
      "+-----------------------------+-----------+---------------+---+--------------------+--------------------+-------------------+-------------------+------+--------------------+-------+---------+\n",
      "|Country & Variable (Combined)|    Country|         Region|M49|            Variable|           Variables|               Unit|              Units|Symbol|  Symbol Description|Symbols|     2019|\n",
      "+-----------------------------+-----------+---------------+---+--------------------+--------------------+-------------------+-------------------+------+--------------------+-------+---------+\n",
      "|         Afghanistan, GDP ...|Afghanistan|  Southern Asia|  4|GDP per capita (c...|      GDP per capita|(current US$/inhab)|(current US$/inhab)|   I  |Imputed (carry fo...|    I  |   563.98|\n",
      "|         Afghanistan, Tota...|Afghanistan|  Southern Asia|  4|Total dam capacit...|  Total dam capacity|              (km3)|              (km3)|   E  |Estimate either c...|    E  |     2.01|\n",
      "|         Afghanistan, Tota...|Afghanistan|  Southern Asia|  4|Total population ...|    Total population|       (1000 inhab)|       (1000 inhab)|   X  |External value (r...|    X  |38,041.75|\n",
      "|         Afghanistan, Tota...|Afghanistan|  Southern Asia|  4|Total renewable w...|Total renewable w...|     (10^9 m3/year)|     (10^9 m3/year)|   I  |Imputed (carry fo...|    I  |    65.33|\n",
      "|         Afghanistan, Tota...|Afghanistan|  Southern Asia|  4|Total water withd...|Total water withd...|     (10^9 m3/year)|     (10^9 m3/year)|   E  |Estimate either c...|    E  |    20.37|\n",
      "|         Albania, GDP per ...|    Albania|Southern Europe|  8|GDP per capita (c...|      GDP per capita|(current US$/inhab)|(current US$/inhab)|   I  |Imputed (carry fo...|    I  | 5,131.91|\n",
      "|         Albania, Total da...|    Albania|Southern Europe|  8|Total dam capacit...|  Total dam capacity|              (km3)|              (km3)|   E  |Estimate either c...|    E  |     4.03|\n",
      "|         Albania, Total po...|    Albania|Southern Europe|  8|Total population ...|    Total population|       (1000 inhab)|       (1000 inhab)|   X  |External value (r...|    X  | 2,880.92|\n",
      "|         Albania, Total re...|    Albania|Southern Europe|  8|Total renewable w...|Total renewable w...|     (10^9 m3/year)|     (10^9 m3/year)|   I  |Imputed (carry fo...|    I  |     30.2|\n",
      "|         Albania, Total wa...|    Albania|Southern Europe|  8|Total water withd...|Total water withd...|     (10^9 m3/year)|     (10^9 m3/year)|      |Official value, d...|       |     1.13|\n",
      "|         Algeria, GDP per ...|    Algeria|Northern Africa| 12|GDP per capita (c...|      GDP per capita|(current US$/inhab)|(current US$/inhab)|   I  |Imputed (carry fo...|    I  | 4,136.29|\n",
      "|         Algeria, Total da...|    Algeria|Northern Africa| 12|Total dam capacit...|  Total dam capacity|              (km3)|              (km3)|   E  |Estimate either c...|    E  |     8.62|\n",
      "|         Algeria, Total po...|    Algeria|Northern Africa| 12|Total population ...|    Total population|       (1000 inhab)|       (1000 inhab)|   X  |External value (r...|    X  |43,053.05|\n",
      "|         Algeria, Total re...|    Algeria|Northern Africa| 12|Total renewable w...|Total renewable w...|     (10^9 m3/year)|     (10^9 m3/year)|   I  |Imputed (carry fo...|    I  |    11.67|\n",
      "|         Algeria, Total wa...|    Algeria|Northern Africa| 12|Total water withd...|Total water withd...|     (10^9 m3/year)|     (10^9 m3/year)|   I  |Imputed (carry fo...|    I  |    10.46|\n",
      "|         Andorra, GDP per ...|    Andorra|Southern Europe| 20|GDP per capita (c...|      GDP per capita|(current US$/inhab)|(current US$/inhab)|   I  |Imputed (carry fo...|    I  |42,080.56|\n",
      "|         Andorra, Total po...|    Andorra|Southern Europe| 20|Total population ...|    Total population|       (1000 inhab)|       (1000 inhab)|   X  |External value (r...|    X  |    77.14|\n",
      "|         Andorra, Total re...|    Andorra|Southern Europe| 20|Total renewable w...|Total renewable w...|     (10^9 m3/year)|     (10^9 m3/year)|   I  |Imputed (carry fo...|    I  |     0.32|\n",
      "|         Angola, GDP per c...|     Angola|  Middle Africa| 24|GDP per capita (c...|      GDP per capita|(current US$/inhab)|(current US$/inhab)|   I  |Imputed (carry fo...|    I  | 3,441.27|\n",
      "|         Angola, Total dam...|     Angola|  Middle Africa| 24|Total dam capacit...|  Total dam capacity|              (km3)|              (km3)|   E  |Estimate either c...|    E  |     9.45|\n",
      "+-----------------------------+-----------+---------------+---+--------------------+--------------------+-------------------+-------------------+------+--------------------+-------+---------+\n",
      "only showing top 20 rows\n",
      "\n"
     ]
    }
   ],
   "source": [
    "df.na.drop().show()"
   ]
  },
  {
   "cell_type": "code",
   "execution_count": 8,
   "id": "8978d846",
   "metadata": {},
   "outputs": [
    {
     "data": {
      "text/plain": [
       "937"
      ]
     },
     "execution_count": 8,
     "metadata": {},
     "output_type": "execute_result"
    }
   ],
   "source": [
    "df.count()"
   ]
  },
  {
   "cell_type": "code",
   "execution_count": 10,
   "id": "01529b43",
   "metadata": {},
   "outputs": [
    {
     "data": {
      "text/plain": [
       "937"
      ]
     },
     "execution_count": 10,
     "metadata": {},
     "output_type": "execute_result"
    }
   ],
   "source": [
    "df.na.drop().count()"
   ]
  },
  {
   "cell_type": "code",
   "execution_count": 11,
   "id": "9a0b2ec7",
   "metadata": {},
   "outputs": [],
   "source": [
    "dm = spark.read.load(\"./AQUASTAT.csv\", format=\"csv\",header = \"true\")"
   ]
  },
  {
   "cell_type": "code",
   "execution_count": 12,
   "id": "63423c21",
   "metadata": {},
   "outputs": [
    {
     "data": {
      "text/plain": [
       "937"
      ]
     },
     "execution_count": 12,
     "metadata": {},
     "output_type": "execute_result"
    }
   ],
   "source": [
    "dm1 = dm.na.drop()\n",
    "dm1.count()"
   ]
  },
  {
   "cell_type": "code",
   "execution_count": 13,
   "id": "67415318",
   "metadata": {},
   "outputs": [
    {
     "data": {
      "text/plain": [
       "937"
      ]
     },
     "execution_count": 13,
     "metadata": {},
     "output_type": "execute_result"
    }
   ],
   "source": [
    "dm.count()"
   ]
  },
  {
   "cell_type": "code",
   "execution_count": 14,
   "id": "50f31acd",
   "metadata": {},
   "outputs": [
    {
     "name": "stdout",
     "output_type": "stream",
     "text": [
      "+-----------------------------+-----------+---------------+---+--------------------+--------------------+-------------------+-------------------+------+--------------------+-------+---------+\n",
      "|Country & Variable (Combined)|    Country|         Region|M49|            Variable|           Variables|               Unit|              Units|Symbol|  Symbol Description|Symbols|     2019|\n",
      "+-----------------------------+-----------+---------------+---+--------------------+--------------------+-------------------+-------------------+------+--------------------+-------+---------+\n",
      "|         Afghanistan, GDP ...|Afghanistan|  Southern Asia|  4|GDP per capita (c...|      GDP per capita|(current US$/inhab)|(current US$/inhab)|   I  |Imputed (carry fo...|    I  |   563.98|\n",
      "|         Afghanistan, Tota...|Afghanistan|  Southern Asia|  4|Total dam capacit...|  Total dam capacity|              (km3)|              (km3)|   E  |Estimate either c...|    E  |     2.01|\n",
      "|         Afghanistan, Tota...|Afghanistan|  Southern Asia|  4|Total population ...|    Total population|       (1000 inhab)|       (1000 inhab)|   X  |External value (r...|    X  |38,041.75|\n",
      "|         Afghanistan, Tota...|Afghanistan|  Southern Asia|  4|Total renewable w...|Total renewable w...|     (10^9 m3/year)|     (10^9 m3/year)|   I  |Imputed (carry fo...|    I  |    65.33|\n",
      "|         Afghanistan, Tota...|Afghanistan|  Southern Asia|  4|Total water withd...|Total water withd...|     (10^9 m3/year)|     (10^9 m3/year)|   E  |Estimate either c...|    E  |    20.37|\n",
      "|         Albania, GDP per ...|    Albania|Southern Europe|  8|GDP per capita (c...|      GDP per capita|(current US$/inhab)|(current US$/inhab)|   I  |Imputed (carry fo...|    I  | 5,131.91|\n",
      "|         Albania, Total da...|    Albania|Southern Europe|  8|Total dam capacit...|  Total dam capacity|              (km3)|              (km3)|   E  |Estimate either c...|    E  |     4.03|\n",
      "|         Albania, Total po...|    Albania|Southern Europe|  8|Total population ...|    Total population|       (1000 inhab)|       (1000 inhab)|   X  |External value (r...|    X  | 2,880.92|\n",
      "|         Albania, Total re...|    Albania|Southern Europe|  8|Total renewable w...|Total renewable w...|     (10^9 m3/year)|     (10^9 m3/year)|   I  |Imputed (carry fo...|    I  |     30.2|\n",
      "|         Albania, Total wa...|    Albania|Southern Europe|  8|Total water withd...|Total water withd...|     (10^9 m3/year)|     (10^9 m3/year)|      |Official value, d...|       |     1.13|\n",
      "|         Algeria, GDP per ...|    Algeria|Northern Africa| 12|GDP per capita (c...|      GDP per capita|(current US$/inhab)|(current US$/inhab)|   I  |Imputed (carry fo...|    I  | 4,136.29|\n",
      "|         Algeria, Total da...|    Algeria|Northern Africa| 12|Total dam capacit...|  Total dam capacity|              (km3)|              (km3)|   E  |Estimate either c...|    E  |     8.62|\n",
      "|         Algeria, Total po...|    Algeria|Northern Africa| 12|Total population ...|    Total population|       (1000 inhab)|       (1000 inhab)|   X  |External value (r...|    X  |43,053.05|\n",
      "|         Algeria, Total re...|    Algeria|Northern Africa| 12|Total renewable w...|Total renewable w...|     (10^9 m3/year)|     (10^9 m3/year)|   I  |Imputed (carry fo...|    I  |    11.67|\n",
      "|         Algeria, Total wa...|    Algeria|Northern Africa| 12|Total water withd...|Total water withd...|     (10^9 m3/year)|     (10^9 m3/year)|   I  |Imputed (carry fo...|    I  |    10.46|\n",
      "|         Andorra, GDP per ...|    Andorra|Southern Europe| 20|GDP per capita (c...|      GDP per capita|(current US$/inhab)|(current US$/inhab)|   I  |Imputed (carry fo...|    I  |42,080.56|\n",
      "|         Andorra, Total po...|    Andorra|Southern Europe| 20|Total population ...|    Total population|       (1000 inhab)|       (1000 inhab)|   X  |External value (r...|    X  |    77.14|\n",
      "|         Andorra, Total re...|    Andorra|Southern Europe| 20|Total renewable w...|Total renewable w...|     (10^9 m3/year)|     (10^9 m3/year)|   I  |Imputed (carry fo...|    I  |     0.32|\n",
      "|         Angola, GDP per c...|     Angola|  Middle Africa| 24|GDP per capita (c...|      GDP per capita|(current US$/inhab)|(current US$/inhab)|   I  |Imputed (carry fo...|    I  | 3,441.27|\n",
      "|         Angola, Total dam...|     Angola|  Middle Africa| 24|Total dam capacit...|  Total dam capacity|              (km3)|              (km3)|   E  |Estimate either c...|    E  |     9.45|\n",
      "+-----------------------------+-----------+---------------+---+--------------------+--------------------+-------------------+-------------------+------+--------------------+-------+---------+\n",
      "only showing top 20 rows\n",
      "\n"
     ]
    }
   ],
   "source": [
    "dm1.show()"
   ]
  },
  {
   "cell_type": "code",
   "execution_count": 15,
   "id": "68888113",
   "metadata": {},
   "outputs": [
    {
     "name": "stdout",
     "output_type": "stream",
     "text": [
      "+-----------------------------+-----------+---------------+---+--------------------+--------------------+-------------------+-------------------+------+--------------------+-------+---------+\n",
      "|Country & Variable (Combined)|    Country|         Region|M49|            Variable|           Variables|               Unit|              Units|Symbol|  Symbol Description|Symbols|     2019|\n",
      "+-----------------------------+-----------+---------------+---+--------------------+--------------------+-------------------+-------------------+------+--------------------+-------+---------+\n",
      "|         Afghanistan, GDP ...|Afghanistan|  Southern Asia|  4|GDP per capita (c...|      GDP per capita|(current US$/inhab)|(current US$/inhab)|   I  |Imputed (carry fo...|    I  |   563.98|\n",
      "|         Afghanistan, Tota...|Afghanistan|  Southern Asia|  4|Total dam capacit...|  Total dam capacity|              (km3)|              (km3)|   E  |Estimate either c...|    E  |     2.01|\n",
      "|         Afghanistan, Tota...|Afghanistan|  Southern Asia|  4|Total population ...|    Total population|       (1000 inhab)|       (1000 inhab)|   X  |External value (r...|    X  |38,041.75|\n",
      "|         Afghanistan, Tota...|Afghanistan|  Southern Asia|  4|Total renewable w...|Total renewable w...|     (10^9 m3/year)|     (10^9 m3/year)|   I  |Imputed (carry fo...|    I  |    65.33|\n",
      "|         Afghanistan, Tota...|Afghanistan|  Southern Asia|  4|Total water withd...|Total water withd...|     (10^9 m3/year)|     (10^9 m3/year)|   E  |Estimate either c...|    E  |    20.37|\n",
      "|         Albania, GDP per ...|    Albania|Southern Europe|  8|GDP per capita (c...|      GDP per capita|(current US$/inhab)|(current US$/inhab)|   I  |Imputed (carry fo...|    I  | 5,131.91|\n",
      "|         Albania, Total da...|    Albania|Southern Europe|  8|Total dam capacit...|  Total dam capacity|              (km3)|              (km3)|   E  |Estimate either c...|    E  |     4.03|\n",
      "|         Albania, Total po...|    Albania|Southern Europe|  8|Total population ...|    Total population|       (1000 inhab)|       (1000 inhab)|   X  |External value (r...|    X  | 2,880.92|\n",
      "|         Albania, Total re...|    Albania|Southern Europe|  8|Total renewable w...|Total renewable w...|     (10^9 m3/year)|     (10^9 m3/year)|   I  |Imputed (carry fo...|    I  |     30.2|\n",
      "|         Albania, Total wa...|    Albania|Southern Europe|  8|Total water withd...|Total water withd...|     (10^9 m3/year)|     (10^9 m3/year)|      |Official value, d...|       |     1.13|\n",
      "|         Algeria, GDP per ...|    Algeria|Northern Africa| 12|GDP per capita (c...|      GDP per capita|(current US$/inhab)|(current US$/inhab)|   I  |Imputed (carry fo...|    I  | 4,136.29|\n",
      "|         Algeria, Total da...|    Algeria|Northern Africa| 12|Total dam capacit...|  Total dam capacity|              (km3)|              (km3)|   E  |Estimate either c...|    E  |     8.62|\n",
      "|         Algeria, Total po...|    Algeria|Northern Africa| 12|Total population ...|    Total population|       (1000 inhab)|       (1000 inhab)|   X  |External value (r...|    X  |43,053.05|\n",
      "|         Algeria, Total re...|    Algeria|Northern Africa| 12|Total renewable w...|Total renewable w...|     (10^9 m3/year)|     (10^9 m3/year)|   I  |Imputed (carry fo...|    I  |    11.67|\n",
      "|         Algeria, Total wa...|    Algeria|Northern Africa| 12|Total water withd...|Total water withd...|     (10^9 m3/year)|     (10^9 m3/year)|   I  |Imputed (carry fo...|    I  |    10.46|\n",
      "|         Andorra, GDP per ...|    Andorra|Southern Europe| 20|GDP per capita (c...|      GDP per capita|(current US$/inhab)|(current US$/inhab)|   I  |Imputed (carry fo...|    I  |42,080.56|\n",
      "|         Andorra, Total po...|    Andorra|Southern Europe| 20|Total population ...|    Total population|       (1000 inhab)|       (1000 inhab)|   X  |External value (r...|    X  |    77.14|\n",
      "|         Andorra, Total re...|    Andorra|Southern Europe| 20|Total renewable w...|Total renewable w...|     (10^9 m3/year)|     (10^9 m3/year)|   I  |Imputed (carry fo...|    I  |     0.32|\n",
      "|         Angola, GDP per c...|     Angola|  Middle Africa| 24|GDP per capita (c...|      GDP per capita|(current US$/inhab)|(current US$/inhab)|   I  |Imputed (carry fo...|    I  | 3,441.27|\n",
      "|         Angola, Total dam...|     Angola|  Middle Africa| 24|Total dam capacit...|  Total dam capacity|              (km3)|              (km3)|   E  |Estimate either c...|    E  |     9.45|\n",
      "+-----------------------------+-----------+---------------+---+--------------------+--------------------+-------------------+-------------------+------+--------------------+-------+---------+\n",
      "only showing top 20 rows\n",
      "\n"
     ]
    }
   ],
   "source": [
    "dm.show()"
   ]
  },
  {
   "cell_type": "code",
   "execution_count": 1,
   "id": "f7453ddb",
   "metadata": {},
   "outputs": [],
   "source": [
    "# dm.na.fill(\"NO VALUE\", subset=['Employee_Name'])\n",
    "# dm.show\n",
    "\n",
    "# dm2 = dm.na.fill(\"NO VALUE\", subset=['Employee_Name'])\n",
    "# dm2.show()\n",
    "\n",
    "# dm.na.fill(\"NO VALUE\", subset=['Employee_Name']).show()"
   ]
  },
  {
   "cell_type": "markdown",
   "id": "3359e339",
   "metadata": {},
   "source": [
    "下面是用PySpark，根据Lab 9那个PDF"
   ]
  },
  {
   "cell_type": "code",
   "execution_count": null,
   "id": "32368485",
   "metadata": {},
   "outputs": [],
   "source": []
  }
 ],
 "metadata": {
  "kernelspec": {
   "display_name": "Python 3 (ipykernel)",
   "language": "python",
   "name": "python3"
  },
  "language_info": {
   "codemirror_mode": {
    "name": "ipython",
    "version": 3
   },
   "file_extension": ".py",
   "mimetype": "text/x-python",
   "name": "python",
   "nbconvert_exporter": "python",
   "pygments_lexer": "ipython3",
   "version": "3.10.4"
  }
 },
 "nbformat": 4,
 "nbformat_minor": 5
}
