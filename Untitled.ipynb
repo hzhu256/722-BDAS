{
 "cells": [
  {
   "cell_type": "code",
   "execution_count": 62,
   "id": "ec8a7d6f",
   "metadata": {},
   "outputs": [],
   "source": [
    "import findspark\n",
    "findspark.init('/home/ubuntu/spark-3.2.1-bin-hadoop2.7')\n",
    "import pyspark\n",
    "from pyspark.sql import SparkSession\n",
    "spark = SparkSession.builder.appName('722').getOrCreate()"
   ]
  },
  {
   "cell_type": "code",
   "execution_count": 63,
   "id": "7c536f05",
   "metadata": {},
   "outputs": [],
   "source": [
    "gdp_per_capita = spark.read.load(\"./data/AQUASTAT GDP per capita.csv\", format=\"csv\",header = \"true\")"
   ]
  },
  {
   "cell_type": "code",
   "execution_count": 64,
   "id": "aea01789",
   "metadata": {},
   "outputs": [
    {
     "name": "stdout",
     "output_type": "stream",
     "text": [
      "+-----------------------------+-------------------+--------------------+---+--------------------+--------------+-------------------+-------------------+-------+--------------------+--------+---------+\n",
      "|Country & Variable (Combined)|            Country|              Region|M49|            Variable|     Variables|              Unit6|              Unit7|Symbol8|  Symbol Description|Symbol10|     2019|\n",
      "+-----------------------------+-------------------+--------------------+---+--------------------+--------------+-------------------+-------------------+-------+--------------------+--------+---------+\n",
      "|         Afghanistan, GDP ...|        Afghanistan|       Southern Asia|  4|GDP per capita (c...|GDP per capita|(current US$/inhab)|(current US$/inhab)|    I  |Imputed (carry fo...|     I  |  563.98 |\n",
      "|         Albania, GDP per ...|            Albania|     Southern Europe|  8|GDP per capita (c...|GDP per capita|(current US$/inhab)|(current US$/inhab)|    I  |Imputed (carry fo...|     I  | 5131.91 |\n",
      "|         Algeria, GDP per ...|            Algeria|     Northern Africa| 12|GDP per capita (c...|GDP per capita|(current US$/inhab)|(current US$/inhab)|    I  |Imputed (carry fo...|     I  | 4136.29 |\n",
      "|         Andorra, GDP per ...|            Andorra|     Southern Europe| 20|GDP per capita (c...|GDP per capita|(current US$/inhab)|(current US$/inhab)|    I  |Imputed (carry fo...|     I  |42080.56 |\n",
      "|         Angola, GDP per c...|             Angola|       Middle Africa| 24|GDP per capita (c...|GDP per capita|(current US$/inhab)|(current US$/inhab)|    I  |Imputed (carry fo...|     I  | 3441.27 |\n",
      "|         Antigua and Barbu...|Antigua and Barbuda|           Caribbean| 28|GDP per capita (c...|GDP per capita|(current US$/inhab)|(current US$/inhab)|    I  |Imputed (carry fo...|     I  |15629.05 |\n",
      "|         Argentina, GDP pe...|          Argentina|       South America| 32|GDP per capita (c...|GDP per capita|(current US$/inhab)|(current US$/inhab)|    I  |Imputed (carry fo...|     I  |11601.89 |\n",
      "|         Armenia, GDP per ...|            Armenia|        Western Asia| 51|GDP per capita (c...|GDP per capita|(current US$/inhab)|(current US$/inhab)|    I  |Imputed (carry fo...|     I  | 4237.39 |\n",
      "|         Australia, GDP pe...|          Australia|Australia and New...| 36|GDP per capita (c...|GDP per capita|(current US$/inhab)|(current US$/inhab)|    I  |Imputed (carry fo...|     I  |58689.49 |\n",
      "|         Austria, GDP per ...|            Austria|      Western Europe| 40|GDP per capita (c...|GDP per capita|(current US$/inhab)|(current US$/inhab)|    I  |Imputed (carry fo...|     I  |52047.26 |\n",
      "|         Azerbaijan, GDP p...|         Azerbaijan|        Western Asia| 31|GDP per capita (c...|GDP per capita|(current US$/inhab)|(current US$/inhab)|    I  |Imputed (carry fo...|     I  | 4729.90 |\n",
      "|         Bahamas, GDP per ...|            Bahamas|           Caribbean| 44|GDP per capita (c...|GDP per capita|(current US$/inhab)|(current US$/inhab)|    I  |Imputed (carry fo...|     I  |31116.87 |\n",
      "|         Bahrain, GDP per ...|            Bahrain|        Western Asia| 48|GDP per capita (c...|GDP per capita|(current US$/inhab)|(current US$/inhab)|    I  |Imputed (carry fo...|     I  |24171.33 |\n",
      "|         Bangladesh, GDP p...|         Bangladesh|       Southern Asia| 50|GDP per capita (c...|GDP per capita|(current US$/inhab)|(current US$/inhab)|    I  |Imputed (carry fo...|     I  | 1620.67 |\n",
      "|         Barbados, GDP per...|           Barbados|           Caribbean| 52|GDP per capita (c...|GDP per capita|(current US$/inhab)|(current US$/inhab)|    I  |Imputed (carry fo...|     I  |17761.54 |\n",
      "|         Belarus, GDP per ...|            Belarus|      Eastern Europe|112|GDP per capita (c...|GDP per capita|(current US$/inhab)|(current US$/inhab)|    I  |Imputed (carry fo...|     I  | 6312.05 |\n",
      "|         Belgium, GDP per ...|            Belgium|      Western Europe| 56|GDP per capita (c...|GDP per capita|(current US$/inhab)|(current US$/inhab)|    I  |Imputed (carry fo...|     I  |47225.76 |\n",
      "|         Belize, GDP per c...|             Belize|     Central America| 84|GDP per capita (c...|GDP per capita|(current US$/inhab)|(current US$/inhab)|    I  |Imputed (carry fo...|     I  | 4892.75 |\n",
      "|         Benin, GDP per ca...|              Benin|      Western Africa|204|GDP per capita (c...|GDP per capita|(current US$/inhab)|(current US$/inhab)|    I  |Imputed (carry fo...|     I  |  906.49 |\n",
      "|         Bhutan, GDP per c...|             Bhutan|       Southern Asia| 64|GDP per capita (c...|GDP per capita|(current US$/inhab)|(current US$/inhab)|    I  |Imputed (carry fo...|     I  | 3253.53 |\n",
      "+-----------------------------+-------------------+--------------------+---+--------------------+--------------+-------------------+-------------------+-------+--------------------+--------+---------+\n",
      "only showing top 20 rows\n",
      "\n"
     ]
    },
    {
     "name": "stderr",
     "output_type": "stream",
     "text": [
      "22/10/11 14:40:27 WARN CSVHeaderChecker: CSV header does not conform to the schema.\n",
      " Header: Country & Variable (Combined), Country, Region, M49, Variable, Variables, Unit, Unit, Symbol, Symbol Description, Symbol, 2019\n",
      " Schema: Country & Variable (Combined), Country, Region, M49, Variable, Variables, Unit6, Unit7, Symbol8, Symbol Description, Symbol10, 2019\n",
      "Expected: Unit6 but found: Unit\n",
      "CSV file: file:///home/ubuntu/722-BDAS/data/AQUASTAT%20GDP%20per%20capita.csv\n"
     ]
    }
   ],
   "source": [
    "gdp_per_capita.show()"
   ]
  },
  {
   "cell_type": "code",
   "execution_count": 65,
   "id": "fc1afe56",
   "metadata": {},
   "outputs": [],
   "source": [
    "total_dam_capacity = spark.read.load(\"./data/AQUASTAT Total dam capacity.csv\", format=\"csv\",header = \"true\")"
   ]
  },
  {
   "cell_type": "code",
   "execution_count": 66,
   "id": "427d9283",
   "metadata": {},
   "outputs": [
    {
     "name": "stdout",
     "output_type": "stream",
     "text": [
      "+-----------------------------+--------------------+--------------------+---+--------------------+------------------+-----+-----+-------+--------------------+--------+------+\n",
      "|Country & Variable (Combined)|             Country|              Region|M49|            Variable|         Variables|Unit6|Unit7|Symbol8|  Symbol Description|Symbol10|  2019|\n",
      "+-----------------------------+--------------------+--------------------+---+--------------------+------------------+-----+-----+-------+--------------------+--------+------+\n",
      "|         Afghanistan, Tota...|         Afghanistan|       Southern Asia|  4|Total dam capacit...|Total dam capacity|(km3)|(km3)|    E  |Estimate either c...|     E  |  2.01|\n",
      "|         Albania, Total da...|             Albania|     Southern Europe|  8|Total dam capacit...|Total dam capacity|(km3)|(km3)|    E  |Estimate either c...|     E  |  4.03|\n",
      "|         Algeria, Total da...|             Algeria|     Northern Africa| 12|Total dam capacit...|Total dam capacity|(km3)|(km3)|    E  |Estimate either c...|     E  |  8.62|\n",
      "|         Angola, Total dam...|              Angola|       Middle Africa| 24|Total dam capacit...|Total dam capacity|(km3)|(km3)|    E  |Estimate either c...|     E  |  9.45|\n",
      "|         Antigua and Barbu...| Antigua and Barbuda|           Caribbean| 28|Total dam capacit...|Total dam capacity|(km3)|(km3)|    E  |Estimate either c...|     E  |  0.01|\n",
      "|         Argentina, Total ...|           Argentina|       South America| 32|Total dam capacit...|Total dam capacity|(km3)|(km3)|    E  |Estimate either c...|     E  |131.56|\n",
      "|         Armenia, Total da...|             Armenia|        Western Asia| 51|Total dam capacit...|Total dam capacity|(km3)|(km3)|    E  |Estimate either c...|     E  |  1.39|\n",
      "|         Australia, Total ...|           Australia|Australia and New...| 36|Total dam capacit...|Total dam capacity|(km3)|(km3)|    E  |Estimate either c...|     E  | 77.79|\n",
      "|         Austria, Total da...|             Austria|      Western Europe| 40|Total dam capacit...|Total dam capacity|(km3)|(km3)|    E  |Estimate either c...|     E  |  2.13|\n",
      "|         Azerbaijan, Total...|          Azerbaijan|        Western Asia| 31|Total dam capacit...|Total dam capacity|(km3)|(km3)|    E  |Estimate either c...|     E  | 21.54|\n",
      "|         Bahrain, Total da...|             Bahrain|        Western Asia| 48|Total dam capacit...|Total dam capacity|(km3)|(km3)|    I  |Imputed (carry fo...|     I  |     0|\n",
      "|         Bangladesh, Total...|          Bangladesh|       Southern Asia| 50|Total dam capacit...|Total dam capacity|(km3)|(km3)|    E  |Estimate either c...|     E  |  6.48|\n",
      "|         Belarus, Total da...|             Belarus|      Eastern Europe|112|Total dam capacit...|Total dam capacity|(km3)|(km3)|    E  |Estimate either c...|     E  |   3.1|\n",
      "|         Belgium, Total da...|             Belgium|      Western Europe| 56|Total dam capacit...|Total dam capacity|(km3)|(km3)|    E  |Estimate either c...|     E  |  0.14|\n",
      "|         Belize, Total dam...|              Belize|     Central America| 84|Total dam capacit...|Total dam capacity|(km3)|(km3)|    E  |Estimate either c...|     E  |  0.12|\n",
      "|         Benin, Total dam ...|               Benin|      Western Africa|204|Total dam capacit...|Total dam capacity|(km3)|(km3)|    E  |Estimate either c...|     E  |  0.02|\n",
      "|         Bhutan, Total dam...|              Bhutan|       Southern Asia| 64|Total dam capacit...|Total dam capacity|(km3)|(km3)|    E  |Estimate either c...|     E  |     0|\n",
      "|         Bolivia (Plurinat...|Bolivia (Plurinat...|       South America| 68|Total dam capacit...|Total dam capacity|(km3)|(km3)|    E  |Estimate either c...|     E  |   0.6|\n",
      "|         Bosnia and Herzeg...|Bosnia and Herzeg...|     Southern Europe| 70|Total dam capacit...|Total dam capacity|(km3)|(km3)|    E  |Estimate either c...|     E  |  2.91|\n",
      "|         Botswana, Total d...|            Botswana|     Southern Africa| 72|Total dam capacit...|Total dam capacity|(km3)|(km3)|    E  |Estimate either c...|     E  |  1.11|\n",
      "+-----------------------------+--------------------+--------------------+---+--------------------+------------------+-----+-----+-------+--------------------+--------+------+\n",
      "only showing top 20 rows\n",
      "\n"
     ]
    },
    {
     "name": "stderr",
     "output_type": "stream",
     "text": [
      "22/10/11 14:40:27 WARN CSVHeaderChecker: CSV header does not conform to the schema.\n",
      " Header: Country & Variable (Combined), Country, Region, M49, Variable, Variables, Unit, Unit, Symbol, Symbol Description, Symbol, 2019\n",
      " Schema: Country & Variable (Combined), Country, Region, M49, Variable, Variables, Unit6, Unit7, Symbol8, Symbol Description, Symbol10, 2019\n",
      "Expected: Unit6 but found: Unit\n",
      "CSV file: file:///home/ubuntu/722-BDAS/data/AQUASTAT%20Total%20dam%20capacity.csv\n"
     ]
    }
   ],
   "source": [
    "total_dam_capacity.show()"
   ]
  },
  {
   "cell_type": "code",
   "execution_count": 67,
   "id": "8ee345bd",
   "metadata": {},
   "outputs": [],
   "source": [
    "total_population = spark.read.load(\"./data/AQUASTAT Total population.csv\", format=\"csv\",header = \"true\")"
   ]
  },
  {
   "cell_type": "code",
   "execution_count": 68,
   "id": "60aced2b",
   "metadata": {},
   "outputs": [
    {
     "name": "stdout",
     "output_type": "stream",
     "text": [
      "+-----------------------------+-------------------+--------------------+---+--------------------+----------------+------------+------------+-------+--------------------+--------+----------+\n",
      "|Country & Variable (Combined)|            Country|              Region|M49|            Variable|       Variables|       Unit6|       Unit7|Symbol8|  Symbol Description|Symbol10|      2019|\n",
      "+-----------------------------+-------------------+--------------------+---+--------------------+----------------+------------+------------+-------+--------------------+--------+----------+\n",
      "|         Afghanistan, Tota...|        Afghanistan|       Southern Asia|  4|Total population ...|Total population|(1000 inhab)|(1000 inhab)|    X  |External value (r...|     X  | 38041.75 |\n",
      "|         Albania, Total po...|            Albania|     Southern Europe|  8|Total population ...|Total population|(1000 inhab)|(1000 inhab)|    X  |External value (r...|     X  |  2880.92 |\n",
      "|         Algeria, Total po...|            Algeria|     Northern Africa| 12|Total population ...|Total population|(1000 inhab)|(1000 inhab)|    X  |External value (r...|     X  | 43053.05 |\n",
      "|         Andorra, Total po...|            Andorra|     Southern Europe| 20|Total population ...|Total population|(1000 inhab)|(1000 inhab)|    X  |External value (r...|     X  |    77.14 |\n",
      "|         Angola, Total pop...|             Angola|       Middle Africa| 24|Total population ...|Total population|(1000 inhab)|(1000 inhab)|    X  |External value (r...|     X  | 31825.30 |\n",
      "|         Antigua and Barbu...|Antigua and Barbuda|           Caribbean| 28|Total population ...|Total population|(1000 inhab)|(1000 inhab)|    X  |External value (r...|     X  |    97.12 |\n",
      "|         Argentina, Total ...|          Argentina|       South America| 32|Total population ...|Total population|(1000 inhab)|(1000 inhab)|    X  |External value (r...|     X  | 44780.68 |\n",
      "|         Armenia, Total po...|            Armenia|        Western Asia| 51|Total population ...|Total population|(1000 inhab)|(1000 inhab)|    X  |External value (r...|     X  |  2957.73 |\n",
      "|         Australia, Total ...|          Australia|Australia and New...| 36|Total population ...|Total population|(1000 inhab)|(1000 inhab)|    X  |External value (r...|     X  | 25203.20 |\n",
      "|         Austria, Total po...|            Austria|      Western Europe| 40|Total population ...|Total population|(1000 inhab)|(1000 inhab)|    X  |External value (r...|     X  |  8955.10 |\n",
      "|         Azerbaijan, Total...|         Azerbaijan|        Western Asia| 31|Total population ...|Total population|(1000 inhab)|(1000 inhab)|    X  |External value (r...|     X  | 10047.72 |\n",
      "|         Bahamas, Total po...|            Bahamas|           Caribbean| 44|Total population ...|Total population|(1000 inhab)|(1000 inhab)|    X  |External value (r...|     X  |   389.48 |\n",
      "|         Bahrain, Total po...|            Bahrain|        Western Asia| 48|Total population ...|Total population|(1000 inhab)|(1000 inhab)|    X  |External value (r...|     X  |  1641.17 |\n",
      "|         Bangladesh, Total...|         Bangladesh|       Southern Asia| 50|Total population ...|Total population|(1000 inhab)|(1000 inhab)|    X  |External value (r...|     X  |163046.16 |\n",
      "|         Barbados, Total p...|           Barbados|           Caribbean| 52|Total population ...|Total population|(1000 inhab)|(1000 inhab)|    X  |External value (r...|     X  |   287.03 |\n",
      "|         Belarus, Total po...|            Belarus|      Eastern Europe|112|Total population ...|Total population|(1000 inhab)|(1000 inhab)|    X  |External value (r...|     X  |  9452.41 |\n",
      "|         Belgium, Total po...|            Belgium|      Western Europe| 56|Total population ...|Total population|(1000 inhab)|(1000 inhab)|    X  |External value (r...|     X  | 11539.33 |\n",
      "|         Belize, Total pop...|             Belize|     Central America| 84|Total population ...|Total population|(1000 inhab)|(1000 inhab)|    X  |External value (r...|     X  |   390.35 |\n",
      "|         Benin, Total popu...|              Benin|      Western Africa|204|Total population ...|Total population|(1000 inhab)|(1000 inhab)|    X  |External value (r...|     X  | 11801.15 |\n",
      "|         Bhutan, Total pop...|             Bhutan|       Southern Asia| 64|Total population ...|Total population|(1000 inhab)|(1000 inhab)|    X  |External value (r...|     X  |   763.09 |\n",
      "+-----------------------------+-------------------+--------------------+---+--------------------+----------------+------------+------------+-------+--------------------+--------+----------+\n",
      "only showing top 20 rows\n",
      "\n"
     ]
    },
    {
     "name": "stderr",
     "output_type": "stream",
     "text": [
      "22/10/11 14:40:28 WARN CSVHeaderChecker: CSV header does not conform to the schema.\n",
      " Header: Country & Variable (Combined), Country, Region, M49, Variable, Variables, Unit, Unit, Symbol, Symbol Description, Symbol, 2019\n",
      " Schema: Country & Variable (Combined), Country, Region, M49, Variable, Variables, Unit6, Unit7, Symbol8, Symbol Description, Symbol10, 2019\n",
      "Expected: Unit6 but found: Unit\n",
      "CSV file: file:///home/ubuntu/722-BDAS/data/AQUASTAT%20Total%20population.csv\n"
     ]
    }
   ],
   "source": [
    "total_population.show()"
   ]
  },
  {
   "cell_type": "code",
   "execution_count": 69,
   "id": "c486fbaa",
   "metadata": {},
   "outputs": [],
   "source": [
    "total_renewable_water_resources = spark.read.load(\"./data/AQUASTAT Total renewable water resources.csv\", format=\"csv\",header = \"true\")"
   ]
  },
  {
   "cell_type": "code",
   "execution_count": 70,
   "id": "9be6cea1",
   "metadata": {},
   "outputs": [
    {
     "name": "stdout",
     "output_type": "stream",
     "text": [
      "+-----------------------------+-------------------+--------------------+---+--------------------+--------------------+--------------+--------------+-------+--------------------+--------+--------+\n",
      "|Country & Variable (Combined)|            Country|              Region|M49|            Variable|           Variables|         Unit6|         Unit7|Symbol8|  Symbol Description|Symbol10|    2019|\n",
      "+-----------------------------+-------------------+--------------------+---+--------------------+--------------------+--------------+--------------+-------+--------------------+--------+--------+\n",
      "|         Afghanistan, Tota...|        Afghanistan|       Southern Asia|  4|Total renewable w...|Total renewable w...|(10^9 m3/year)|(10^9 m3/year)|    I  |Imputed (carry fo...|     I  |   65.33|\n",
      "|         Albania, Total re...|            Albania|     Southern Europe|  8|Total renewable w...|Total renewable w...|(10^9 m3/year)|(10^9 m3/year)|    I  |Imputed (carry fo...|     I  |    30.2|\n",
      "|         Algeria, Total re...|            Algeria|     Northern Africa| 12|Total renewable w...|Total renewable w...|(10^9 m3/year)|(10^9 m3/year)|    I  |Imputed (carry fo...|     I  |   11.67|\n",
      "|         Andorra, Total re...|            Andorra|     Southern Europe| 20|Total renewable w...|Total renewable w...|(10^9 m3/year)|(10^9 m3/year)|    I  |Imputed (carry fo...|     I  |    0.32|\n",
      "|         Angola, Total ren...|             Angola|       Middle Africa| 24|Total renewable w...|Total renewable w...|(10^9 m3/year)|(10^9 m3/year)|    I  |Imputed (carry fo...|     I  |   148.4|\n",
      "|         Antigua and Barbu...|Antigua and Barbuda|           Caribbean| 28|Total renewable w...|Total renewable w...|(10^9 m3/year)|(10^9 m3/year)|       |Official value, d...|        |    0.05|\n",
      "|         Argentina, Total ...|          Argentina|       South America| 32|Total renewable w...|Total renewable w...|(10^9 m3/year)|(10^9 m3/year)|    I  |Imputed (carry fo...|     I  |  876.24|\n",
      "|         Armenia, Total re...|            Armenia|        Western Asia| 51|Total renewable w...|Total renewable w...|(10^9 m3/year)|(10^9 m3/year)|    I  |Imputed (carry fo...|     I  |    7.77|\n",
      "|         Australia, Total ...|          Australia|Australia and New...| 36|Total renewable w...|Total renewable w...|(10^9 m3/year)|(10^9 m3/year)|    I  |Imputed (carry fo...|     I  |     492|\n",
      "|         Austria, Total re...|            Austria|      Western Europe| 40|Total renewable w...|Total renewable w...|(10^9 m3/year)|(10^9 m3/year)|    I  |Imputed (carry fo...|     I  |    77.7|\n",
      "|         Azerbaijan, Total...|         Azerbaijan|        Western Asia| 31|Total renewable w...|Total renewable w...|(10^9 m3/year)|(10^9 m3/year)|    I  |Imputed (carry fo...|     I  |   34.68|\n",
      "|         Bahamas, Total re...|            Bahamas|           Caribbean| 44|Total renewable w...|Total renewable w...|(10^9 m3/year)|(10^9 m3/year)|    E  |Estimate either c...|     E  |     0.7|\n",
      "|         Bahrain, Total re...|            Bahrain|        Western Asia| 48|Total renewable w...|Total renewable w...|(10^9 m3/year)|(10^9 m3/year)|    I  |Imputed (carry fo...|     I  |    0.12|\n",
      "|         Bangladesh, Total...|         Bangladesh|       Southern Asia| 50|Total renewable w...|Total renewable w...|(10^9 m3/year)|(10^9 m3/year)|    I  |Imputed (carry fo...|     I  |1,227.03|\n",
      "|         Barbados, Total r...|           Barbados|           Caribbean| 52|Total renewable w...|Total renewable w...|(10^9 m3/year)|(10^9 m3/year)|    I  |Imputed (carry fo...|     I  |    0.08|\n",
      "|         Belarus, Total re...|            Belarus|      Eastern Europe|112|Total renewable w...|Total renewable w...|(10^9 m3/year)|(10^9 m3/year)|    I  |Imputed (carry fo...|     I  |    57.9|\n",
      "|         Belgium, Total re...|            Belgium|      Western Europe| 56|Total renewable w...|Total renewable w...|(10^9 m3/year)|(10^9 m3/year)|    I  |Imputed (carry fo...|     I  |    18.3|\n",
      "|         Belize, Total ren...|             Belize|     Central America| 84|Total renewable w...|Total renewable w...|(10^9 m3/year)|(10^9 m3/year)|    I  |Imputed (carry fo...|     I  |   21.73|\n",
      "|         Benin, Total rene...|              Benin|      Western Africa|204|Total renewable w...|Total renewable w...|(10^9 m3/year)|(10^9 m3/year)|    I  |Imputed (carry fo...|     I  |   26.39|\n",
      "|         Bhutan, Total ren...|             Bhutan|       Southern Asia| 64|Total renewable w...|Total renewable w...|(10^9 m3/year)|(10^9 m3/year)|    I  |Imputed (carry fo...|     I  |      78|\n",
      "+-----------------------------+-------------------+--------------------+---+--------------------+--------------------+--------------+--------------+-------+--------------------+--------+--------+\n",
      "only showing top 20 rows\n",
      "\n"
     ]
    },
    {
     "name": "stderr",
     "output_type": "stream",
     "text": [
      "22/10/11 14:40:28 WARN CSVHeaderChecker: CSV header does not conform to the schema.\n",
      " Header: Country & Variable (Combined), Country, Region, M49, Variable, Variables, Unit, Unit, Symbol, Symbol Description, Symbol, 2019\n",
      " Schema: Country & Variable (Combined), Country, Region, M49, Variable, Variables, Unit6, Unit7, Symbol8, Symbol Description, Symbol10, 2019\n",
      "Expected: Unit6 but found: Unit\n",
      "CSV file: file:///home/ubuntu/722-BDAS/data/AQUASTAT%20Total%20renewable%20water%20resources.csv\n"
     ]
    }
   ],
   "source": [
    "total_renewable_water_resources.show()"
   ]
  },
  {
   "cell_type": "code",
   "execution_count": 71,
   "id": "971ab156",
   "metadata": {},
   "outputs": [],
   "source": [
    "total_water_withdrawal = spark.read.load(\"./data/AQUASTAT Total water withdrawal.csv\", format=\"csv\",header = \"true\")"
   ]
  },
  {
   "cell_type": "code",
   "execution_count": 72,
   "id": "e0f471d1",
   "metadata": {},
   "outputs": [
    {
     "name": "stdout",
     "output_type": "stream",
     "text": [
      "+-----------------------------+--------------------+--------------------+---+--------------------+--------------------+--------------+--------------+-------+--------------------+--------+-----+\n",
      "|Country & Variable (Combined)|             Country|              Region|M49|            Variable|           Variables|         Unit6|         Unit7|Symbol8|  Symbol Description|Symbol10| 2019|\n",
      "+-----------------------------+--------------------+--------------------+---+--------------------+--------------------+--------------+--------------+-------+--------------------+--------+-----+\n",
      "|         Afghanistan, Tota...|         Afghanistan|       Southern Asia|  4|Total water withd...|Total water withd...|(10^9 m3/year)|(10^9 m3/year)|    E  |Estimate either c...|     E  |20.37|\n",
      "|         Albania, Total wa...|             Albania|     Southern Europe|  8|Total water withd...|Total water withd...|(10^9 m3/year)|(10^9 m3/year)|       |Official value, d...|        | 1.13|\n",
      "|         Algeria, Total wa...|             Algeria|     Northern Africa| 12|Total water withd...|Total water withd...|(10^9 m3/year)|(10^9 m3/year)|    I  |Imputed (carry fo...|     I  |10.46|\n",
      "|         Angola, Total wat...|              Angola|       Middle Africa| 24|Total water withd...|Total water withd...|(10^9 m3/year)|(10^9 m3/year)|    I  |Imputed (carry fo...|     I  | 0.71|\n",
      "|         Antigua and Barbu...| Antigua and Barbuda|           Caribbean| 28|Total water withd...|Total water withd...|(10^9 m3/year)|(10^9 m3/year)|    I  |Imputed (carry fo...|     I  | 0.01|\n",
      "|         Argentina, Total ...|           Argentina|       South America| 32|Total water withd...|Total water withd...|(10^9 m3/year)|(10^9 m3/year)|    I  |Imputed (carry fo...|     I  |37.78|\n",
      "|         Armenia, Total wa...|             Armenia|        Western Asia| 51|Total water withd...|Total water withd...|(10^9 m3/year)|(10^9 m3/year)|       |Official value, d...|        | 2.87|\n",
      "|         Australia, Total ...|           Australia|Australia and New...| 36|Total water withd...|Total water withd...|(10^9 m3/year)|(10^9 m3/year)|       |Official value, d...|        |14.98|\n",
      "|         Austria, Total wa...|             Austria|      Western Europe| 40|Total water withd...|Total water withd...|(10^9 m3/year)|(10^9 m3/year)|    E  |Estimate either c...|     E  | 3.49|\n",
      "|         Azerbaijan, Total...|          Azerbaijan|        Western Asia| 31|Total water withd...|Total water withd...|(10^9 m3/year)|(10^9 m3/year)|       |Official value, d...|        |12.59|\n",
      "|         Bahrain, Total wa...|             Bahrain|        Western Asia| 48|Total water withd...|Total water withd...|(10^9 m3/year)|(10^9 m3/year)|    I  |Imputed (carry fo...|     I  | 0.43|\n",
      "|         Bangladesh, Total...|          Bangladesh|       Southern Asia| 50|Total water withd...|Total water withd...|(10^9 m3/year)|(10^9 m3/year)|    I  |Imputed (carry fo...|     I  |35.87|\n",
      "|         Barbados, Total w...|            Barbados|           Caribbean| 52|Total water withd...|Total water withd...|(10^9 m3/year)|(10^9 m3/year)|    I  |Imputed (carry fo...|     I  | 0.08|\n",
      "|         Belarus, Total wa...|             Belarus|      Eastern Europe|112|Total water withd...|Total water withd...|(10^9 m3/year)|(10^9 m3/year)|       |Official value, d...|        | 1.36|\n",
      "|         Belgium, Total wa...|             Belgium|      Western Europe| 56|Total water withd...|Total water withd...|(10^9 m3/year)|(10^9 m3/year)|    E  |Estimate either c...|     E  | 4.26|\n",
      "|         Belize, Total wat...|              Belize|     Central America| 84|Total water withd...|Total water withd...|(10^9 m3/year)|(10^9 m3/year)|    I  |Imputed (carry fo...|     I  |  0.1|\n",
      "|         Benin, Total wate...|               Benin|      Western Africa|204|Total water withd...|Total water withd...|(10^9 m3/year)|(10^9 m3/year)|    E  |Estimate either c...|     E  | 0.23|\n",
      "|         Bhutan, Total wat...|              Bhutan|       Southern Asia| 64|Total water withd...|Total water withd...|(10^9 m3/year)|(10^9 m3/year)|    I  |Imputed (carry fo...|     I  | 0.34|\n",
      "|         Bolivia (Plurinat...|Bolivia (Plurinat...|       South America| 68|Total water withd...|Total water withd...|(10^9 m3/year)|(10^9 m3/year)|    I  |Imputed (carry fo...|     I  | 2.09|\n",
      "|         Botswana, Total w...|            Botswana|     Southern Africa| 72|Total water withd...|Total water withd...|(10^9 m3/year)|(10^9 m3/year)|       |Official value, d...|        |  0.2|\n",
      "+-----------------------------+--------------------+--------------------+---+--------------------+--------------------+--------------+--------------+-------+--------------------+--------+-----+\n",
      "only showing top 20 rows\n",
      "\n"
     ]
    },
    {
     "name": "stderr",
     "output_type": "stream",
     "text": [
      "22/10/11 14:40:29 WARN CSVHeaderChecker: CSV header does not conform to the schema.\n",
      " Header: Country & Variable (Combined), Country, Region, M49, Variable, Variables, Unit, Unit, Symbol, Symbol Description, Symbol, 2019\n",
      " Schema: Country & Variable (Combined), Country, Region, M49, Variable, Variables, Unit6, Unit7, Symbol8, Symbol Description, Symbol10, 2019\n",
      "Expected: Unit6 but found: Unit\n",
      "CSV file: file:///home/ubuntu/722-BDAS/data/AQUASTAT%20Total%20water%20withdrawal.csv\n"
     ]
    }
   ],
   "source": [
    "total_water_withdrawal.show()"
   ]
  },
  {
   "cell_type": "code",
   "execution_count": 73,
   "id": "367ce53f",
   "metadata": {},
   "outputs": [],
   "source": [
    "wer = spark.read.load(\"./data/WER.csv\", format=\"csv\",header = \"true\")"
   ]
  },
  {
   "cell_type": "code",
   "execution_count": 74,
   "id": "44a94839",
   "metadata": {},
   "outputs": [
    {
     "name": "stdout",
     "output_type": "stream",
     "text": [
      "+--------------------+-------+---------------------------+\n",
      "|             Country|   Unit|Total hydropower generation|\n",
      "+--------------------+-------+---------------------------+\n",
      "|         Afghanistan|(kwh/a)|                        400|\n",
      "|             Albania|(kwh/a)|                       1527|\n",
      "|             Algeria|(kwh/a)|                        228|\n",
      "|              Angola|(kwh/a)|                        866|\n",
      "|           Argentina|(kwh/a)|                      10118|\n",
      "|             Armenia|(kwh/a)|                       1249|\n",
      "|           Australia|(kwh/a)|                       8790|\n",
      "|             Austria|(kwh/a)|                      13177|\n",
      "|          Azerbaijan|(kwh/a)|                       1116|\n",
      "|          Bangladesh|(kwh/a)|                        230|\n",
      "|             Belarus|(kwh/a)|                         33|\n",
      "|             Belgium|(kwh/a)|                       1427|\n",
      "|               Benin|(kwh/a)|                          1|\n",
      "|              Bhutan|(kwh/a)|                       1615|\n",
      "|Bolivia (Plurinat...|(kwh/a)|                        494|\n",
      "|Bosnia and Herzeg...|(kwh/a)|                       2504|\n",
      "|            Botswana|(kwh/a)|                          0|\n",
      "|              Brazil|(kwh/a)|                     382058|\n",
      "|            Bulgaria|(kwh/a)|                          0|\n",
      "|        Burkina Faso|(kwh/a)|                         32|\n",
      "+--------------------+-------+---------------------------+\n",
      "only showing top 20 rows\n",
      "\n"
     ]
    }
   ],
   "source": [
    "wer.show()"
   ]
  },
  {
   "cell_type": "code",
   "execution_count": 83,
   "id": "ddfd23dc",
   "metadata": {},
   "outputs": [],
   "source": [
    "gdp_per_capita = gdp_per_capita.drop('Country & Variable (Combined)', 'M49', 'Variable', 'Variables', 'Unit6', 'Unit7', 'Symbol8', 'Symbol Description', 'Symbol10').withColumnRenamed(\"2019\",\"GDP per capita\")\n",
    "total_dam_capacity = total_dam_capacity.drop('Country & Variable (Combined)', 'M49', 'Variable', 'Variables', 'Unit6', 'Unit7', 'Symbol8', 'Symbol Description', 'Symbol10').withColumnRenamed(\"2019\",\"Total dam capacity\")\n",
    "total_population = total_population.drop('Country & Variable (Combined)', 'M49', 'Variable', 'Variables', 'Unit6', 'Unit7', 'Symbol8', 'Symbol Description', 'Symbol10').withColumnRenamed(\"2019\",\"Total population\")\n",
    "total_renewable_water_resources = total_renewable_water_resources.drop('Country & Variable (Combined)', 'M49', 'Variable', 'Variables', 'Unit6', 'Unit7', 'Symbol8', 'Symbol Description', 'Symbol10').withColumnRenamed(\"2019\",\"Total renewable water resources\")\n",
    "total_water_withdrawal = total_water_withdrawal.drop('Country & Variable (Combined)', 'M49', 'Variable', 'Variables', 'Unit6', 'Unit7', 'Symbol8', 'Symbol Description', 'Symbol10').withColumnRenamed(\"2019\",\"Total water withdrawal\")\n",
    "wer = wer.drop('Unit')"
   ]
  },
  {
   "cell_type": "code",
   "execution_count": 84,
   "id": "a83615bd",
   "metadata": {},
   "outputs": [
    {
     "data": {
      "text/plain": [
       "DataFrame[Country: string, Region: string, GDP per capita: string]"
      ]
     },
     "execution_count": 84,
     "metadata": {},
     "output_type": "execute_result"
    }
   ],
   "source": [
    "gdp_per_capita"
   ]
  },
  {
   "cell_type": "code",
   "execution_count": 85,
   "id": "8c325cf1",
   "metadata": {},
   "outputs": [
    {
     "data": {
      "text/plain": [
       "DataFrame[Country: string, Region: string, Total dam capacity: string]"
      ]
     },
     "execution_count": 85,
     "metadata": {},
     "output_type": "execute_result"
    }
   ],
   "source": [
    "total_dam_capacity"
   ]
  },
  {
   "cell_type": "code",
   "execution_count": 86,
   "id": "c3cc3b90",
   "metadata": {},
   "outputs": [
    {
     "data": {
      "text/plain": [
       "DataFrame[Country: string, Region: string, Total population: string]"
      ]
     },
     "execution_count": 86,
     "metadata": {},
     "output_type": "execute_result"
    }
   ],
   "source": [
    "total_population"
   ]
  },
  {
   "cell_type": "code",
   "execution_count": 87,
   "id": "18c3a130",
   "metadata": {},
   "outputs": [
    {
     "data": {
      "text/plain": [
       "DataFrame[Country: string, Region: string, Total renewable water resources: string]"
      ]
     },
     "execution_count": 87,
     "metadata": {},
     "output_type": "execute_result"
    }
   ],
   "source": [
    "total_renewable_water_resources"
   ]
  },
  {
   "cell_type": "code",
   "execution_count": 88,
   "id": "c6004da6",
   "metadata": {},
   "outputs": [
    {
     "data": {
      "text/plain": [
       "DataFrame[Country: string, Region: string, Total water withdrawal: string]"
      ]
     },
     "execution_count": 88,
     "metadata": {},
     "output_type": "execute_result"
    }
   ],
   "source": [
    "total_water_withdrawal"
   ]
  },
  {
   "cell_type": "code",
   "execution_count": 90,
   "id": "e77e9047",
   "metadata": {},
   "outputs": [
    {
     "data": {
      "text/plain": [
       "DataFrame[Country: string, Total hydropower generation: string]"
      ]
     },
     "execution_count": 90,
     "metadata": {},
     "output_type": "execute_result"
    }
   ],
   "source": [
    "wer"
   ]
  },
  {
   "cell_type": "code",
   "execution_count": 107,
   "id": "a7cbb7a5",
   "metadata": {},
   "outputs": [],
   "source": [
    "data_for_analysis = gdp_per_capita.join(total_dam_capacity, on= [\"Country\",\"Region\"], how = \"left\").join(total_population, on= [\"Country\",\"Region\"], how = \"left\").join(total_renewable_water_resources, on= [\"Country\",\"Region\"], how = \"left\").join(total_water_withdrawal, on= [\"Country\",\"Region\"], how = \"left\").join(wer, on= [\"Country\"], how = \"left\")"
   ]
  },
  {
   "cell_type": "code",
   "execution_count": 109,
   "id": "48e9f5fe",
   "metadata": {},
   "outputs": [
    {
     "name": "stdout",
     "output_type": "stream",
     "text": [
      "+-------------------+--------------------+--------------+------------------+----------------+-------------------------------+----------------------+---------------------------+\n",
      "|            Country|              Region|GDP per capita|Total dam capacity|Total population|Total renewable water resources|Total water withdrawal|Total hydropower generation|\n",
      "+-------------------+--------------------+--------------+------------------+----------------+-------------------------------+----------------------+---------------------------+\n",
      "|        Afghanistan|       Southern Asia|       563.98 |              2.01|       38041.75 |                          65.33|                 20.37|                        400|\n",
      "|            Albania|     Southern Europe|      5131.91 |              4.03|        2880.92 |                           30.2|                  1.13|                       1527|\n",
      "|            Algeria|     Northern Africa|      4136.29 |              8.62|       43053.05 |                          11.67|                 10.46|                        228|\n",
      "|            Andorra|     Southern Europe|     42080.56 |              null|          77.14 |                           0.32|                  null|                       null|\n",
      "|             Angola|       Middle Africa|      3441.27 |              9.45|       31825.30 |                          148.4|                  0.71|                        866|\n",
      "|Antigua and Barbuda|           Caribbean|     15629.05 |              0.01|          97.12 |                           0.05|                  0.01|                       null|\n",
      "|          Argentina|       South America|     11601.89 |            131.56|       44780.68 |                         876.24|                 37.78|                      10118|\n",
      "|            Armenia|        Western Asia|      4237.39 |              1.39|        2957.73 |                           7.77|                  2.87|                       1249|\n",
      "|          Australia|Australia and New...|     58689.49 |             77.79|       25203.20 |                            492|                 14.98|                       8790|\n",
      "|            Austria|      Western Europe|     52047.26 |              2.13|        8955.10 |                           77.7|                  3.49|                      13177|\n",
      "|         Azerbaijan|        Western Asia|      4729.90 |             21.54|       10047.72 |                          34.68|                 12.59|                       1116|\n",
      "|            Bahamas|           Caribbean|     31116.87 |              null|         389.48 |                            0.7|                  null|                       null|\n",
      "|            Bahrain|        Western Asia|     24171.33 |                 0|        1641.17 |                           0.12|                  0.43|                       null|\n",
      "|         Bangladesh|       Southern Asia|      1620.67 |              6.48|      163046.16 |                       1,227.03|                 35.87|                        230|\n",
      "|           Barbados|           Caribbean|     17761.54 |              null|         287.03 |                           0.08|                  0.08|                       null|\n",
      "|            Belarus|      Eastern Europe|      6312.05 |               3.1|        9452.41 |                           57.9|                  1.36|                         33|\n",
      "|            Belgium|      Western Europe|     47225.76 |              0.14|       11539.33 |                           18.3|                  4.26|                       1427|\n",
      "|             Belize|     Central America|      4892.75 |              0.12|         390.35 |                          21.73|                   0.1|                       null|\n",
      "|              Benin|      Western Africa|       906.49 |              0.02|       11801.15 |                          26.39|                  0.23|                          1|\n",
      "|             Bhutan|       Southern Asia|      3253.53 |                 0|         763.09 |                             78|                  0.34|                       1615|\n",
      "+-------------------+--------------------+--------------+------------------+----------------+-------------------------------+----------------------+---------------------------+\n",
      "only showing top 20 rows\n",
      "\n"
     ]
    }
   ],
   "source": [
    "data_for_analysis.show()"
   ]
  },
  {
   "cell_type": "code",
   "execution_count": 110,
   "id": "754aba0d",
   "metadata": {},
   "outputs": [
    {
     "data": {
      "text/plain": [
       "['Country',\n",
       " 'Region',\n",
       " 'GDP per capita',\n",
       " 'Total dam capacity',\n",
       " 'Total population',\n",
       " 'Total renewable water resources',\n",
       " 'Total water withdrawal',\n",
       " 'Total hydropower generation']"
      ]
     },
     "execution_count": 110,
     "metadata": {},
     "output_type": "execute_result"
    }
   ],
   "source": [
    "data_for_analysis.columns"
   ]
  },
  {
   "cell_type": "code",
   "execution_count": 111,
   "id": "3093b704",
   "metadata": {},
   "outputs": [
    {
     "name": "stderr",
     "output_type": "stream",
     "text": [
      "\r",
      "[Stage 58:>                                                         (0 + 1) / 1]\r"
     ]
    },
    {
     "name": "stdout",
     "output_type": "stream",
     "text": [
      "+-------+-----------+--------------------+------------------+------------------+------------------+-------------------------------+----------------------+---------------------------+\n",
      "|summary|    Country|              Region|    GDP per capita|Total dam capacity|  Total population|Total renewable water resources|Total water withdrawal|Total hydropower generation|\n",
      "+-------+-----------+--------------------+------------------+------------------+------------------+-------------------------------+----------------------+---------------------------+\n",
      "|  count|        196|                 196|               196|               164|               196|                            193|                   180|                        159|\n",
      "|   mean|       null|                null|15906.919387755108| 43.39902439024391|  39330.0511734694|             108.78466666666664|    22.551333333333332|         17510.540880503144|\n",
      "| stddev|       null|                null|25923.220752998233|137.51102537043656|147710.15800567245|              178.3660258140343|     82.28662711257674|         100768.28335838976|\n",
      "|    min|Afghanistan|Australia and New...|         10141.12 |                 0|            10.76 |                              0|                  0.01|                          0|\n",
      "|    max|   Zimbabwe|      Western Europe|           994.45 |             99.93|          9770.53 |                             99|                  93.3|                        991|\n",
      "+-------+-----------+--------------------+------------------+------------------+------------------+-------------------------------+----------------------+---------------------------+\n",
      "\n"
     ]
    },
    {
     "name": "stderr",
     "output_type": "stream",
     "text": [
      "\r",
      "                                                                                \r"
     ]
    }
   ],
   "source": [
    "data_for_analysis.describe().show()"
   ]
  },
  {
   "cell_type": "code",
   "execution_count": 112,
   "id": "188c0307",
   "metadata": {},
   "outputs": [
    {
     "name": "stdout",
     "output_type": "stream",
     "text": [
      "root\n",
      " |-- Country: string (nullable = true)\n",
      " |-- Region: string (nullable = true)\n",
      " |-- GDP per capita: string (nullable = true)\n",
      " |-- Total dam capacity: string (nullable = true)\n",
      " |-- Total population: string (nullable = true)\n",
      " |-- Total renewable water resources: string (nullable = true)\n",
      " |-- Total water withdrawal: string (nullable = true)\n",
      " |-- Total hydropower generation: string (nullable = true)\n",
      "\n"
     ]
    }
   ],
   "source": [
    "data_for_analysis.printSchema()"
   ]
  },
  {
   "cell_type": "code",
   "execution_count": 113,
   "id": "1a6ed636",
   "metadata": {},
   "outputs": [
    {
     "name": "stdout",
     "output_type": "stream",
     "text": [
      "+--------------------+--------------------+--------------+------------------+----------------+-------------------------------+----------------------+---------------------------+\n",
      "|             Country|              Region|GDP per capita|Total dam capacity|Total population|Total renewable water resources|Total water withdrawal|Total hydropower generation|\n",
      "+--------------------+--------------------+--------------+------------------+----------------+-------------------------------+----------------------+---------------------------+\n",
      "|         Afghanistan|       Southern Asia|       563.98 |              2.01|       38041.75 |                          65.33|                 20.37|                        400|\n",
      "|             Albania|     Southern Europe|      5131.91 |              4.03|        2880.92 |                           30.2|                  1.13|                       1527|\n",
      "|             Algeria|     Northern Africa|      4136.29 |              8.62|       43053.05 |                          11.67|                 10.46|                        228|\n",
      "|              Angola|       Middle Africa|      3441.27 |              9.45|       31825.30 |                          148.4|                  0.71|                        866|\n",
      "|           Argentina|       South America|     11601.89 |            131.56|       44780.68 |                         876.24|                 37.78|                      10118|\n",
      "|             Armenia|        Western Asia|      4237.39 |              1.39|        2957.73 |                           7.77|                  2.87|                       1249|\n",
      "|           Australia|Australia and New...|     58689.49 |             77.79|       25203.20 |                            492|                 14.98|                       8790|\n",
      "|             Austria|      Western Europe|     52047.26 |              2.13|        8955.10 |                           77.7|                  3.49|                      13177|\n",
      "|          Azerbaijan|        Western Asia|      4729.90 |             21.54|       10047.72 |                          34.68|                 12.59|                       1116|\n",
      "|          Bangladesh|       Southern Asia|      1620.67 |              6.48|      163046.16 |                       1,227.03|                 35.87|                        230|\n",
      "|             Belarus|      Eastern Europe|      6312.05 |               3.1|        9452.41 |                           57.9|                  1.36|                         33|\n",
      "|             Belgium|      Western Europe|     47225.76 |              0.14|       11539.33 |                           18.3|                  4.26|                       1427|\n",
      "|               Benin|      Western Africa|       906.49 |              0.02|       11801.15 |                          26.39|                  0.23|                          1|\n",
      "|              Bhutan|       Southern Asia|      3253.53 |                 0|         763.09 |                             78|                  0.34|                       1615|\n",
      "|Bolivia (Plurinat...|       South America|      3592.08 |               0.6|       11513.10 |                            574|                  2.09|                        494|\n",
      "|            Botswana|     Southern Africa|      7978.14 |              1.11|        2303.70 |                          12.24|                   0.2|                          0|\n",
      "|              Brazil|       South America|      8861.53 |            700.44|      211049.53 |                       8,647.00|                 70.43|                     382058|\n",
      "|            Bulgaria|      Eastern Europe|      9407.50 |              6.52|        7000.12 |                           21.3|                  5.42|                          0|\n",
      "|        Burkina Faso|      Western Africa|       820.17 |              5.34|       20321.38 |                           13.5|                  0.82|                         32|\n",
      "|          Cabo Verde|      Western Africa|      3572.55 |                 0|         549.94 |                            0.3|                  0.03|                          0|\n",
      "+--------------------+--------------------+--------------+------------------+----------------+-------------------------------+----------------------+---------------------------+\n",
      "only showing top 20 rows\n",
      "\n"
     ]
    }
   ],
   "source": [
    "data_for_analysis.na.drop().show()"
   ]
  },
  {
   "cell_type": "code",
   "execution_count": 114,
   "id": "c2a0c92c",
   "metadata": {},
   "outputs": [
    {
     "data": {
      "text/plain": [
       "196"
      ]
     },
     "execution_count": 114,
     "metadata": {},
     "output_type": "execute_result"
    }
   ],
   "source": [
    "data_for_analysis.count()"
   ]
  },
  {
   "cell_type": "code",
   "execution_count": 116,
   "id": "a6cc71d1",
   "metadata": {},
   "outputs": [
    {
     "data": {
      "text/plain": [
       "144"
      ]
     },
     "execution_count": 116,
     "metadata": {},
     "output_type": "execute_result"
    }
   ],
   "source": [
    "data_for_analysis.na.drop().count()"
   ]
  },
  {
   "cell_type": "code",
   "execution_count": 117,
   "id": "dcd72184",
   "metadata": {},
   "outputs": [],
   "source": [
    "data_for_analysis = data_for_analysis.na.drop()"
   ]
  },
  {
   "cell_type": "code",
   "execution_count": 118,
   "id": "d91329ed",
   "metadata": {},
   "outputs": [
    {
     "name": "stdout",
     "output_type": "stream",
     "text": [
      "+--------------------+--------------------+--------------+------------------+----------------+-------------------------------+----------------------+---------------------------+\n",
      "|             Country|              Region|GDP per capita|Total dam capacity|Total population|Total renewable water resources|Total water withdrawal|Total hydropower generation|\n",
      "+--------------------+--------------------+--------------+------------------+----------------+-------------------------------+----------------------+---------------------------+\n",
      "|         Afghanistan|       Southern Asia|       563.98 |              2.01|       38041.75 |                          65.33|                 20.37|                        400|\n",
      "|             Albania|     Southern Europe|      5131.91 |              4.03|        2880.92 |                           30.2|                  1.13|                       1527|\n",
      "|             Algeria|     Northern Africa|      4136.29 |              8.62|       43053.05 |                          11.67|                 10.46|                        228|\n",
      "|              Angola|       Middle Africa|      3441.27 |              9.45|       31825.30 |                          148.4|                  0.71|                        866|\n",
      "|           Argentina|       South America|     11601.89 |            131.56|       44780.68 |                         876.24|                 37.78|                      10118|\n",
      "|             Armenia|        Western Asia|      4237.39 |              1.39|        2957.73 |                           7.77|                  2.87|                       1249|\n",
      "|           Australia|Australia and New...|     58689.49 |             77.79|       25203.20 |                            492|                 14.98|                       8790|\n",
      "|             Austria|      Western Europe|     52047.26 |              2.13|        8955.10 |                           77.7|                  3.49|                      13177|\n",
      "|          Azerbaijan|        Western Asia|      4729.90 |             21.54|       10047.72 |                          34.68|                 12.59|                       1116|\n",
      "|          Bangladesh|       Southern Asia|      1620.67 |              6.48|      163046.16 |                       1,227.03|                 35.87|                        230|\n",
      "|             Belarus|      Eastern Europe|      6312.05 |               3.1|        9452.41 |                           57.9|                  1.36|                         33|\n",
      "|             Belgium|      Western Europe|     47225.76 |              0.14|       11539.33 |                           18.3|                  4.26|                       1427|\n",
      "|               Benin|      Western Africa|       906.49 |              0.02|       11801.15 |                          26.39|                  0.23|                          1|\n",
      "|              Bhutan|       Southern Asia|      3253.53 |                 0|         763.09 |                             78|                  0.34|                       1615|\n",
      "|Bolivia (Plurinat...|       South America|      3592.08 |               0.6|       11513.10 |                            574|                  2.09|                        494|\n",
      "|            Botswana|     Southern Africa|      7978.14 |              1.11|        2303.70 |                          12.24|                   0.2|                          0|\n",
      "|              Brazil|       South America|      8861.53 |            700.44|      211049.53 |                       8,647.00|                 70.43|                     382058|\n",
      "|            Bulgaria|      Eastern Europe|      9407.50 |              6.52|        7000.12 |                           21.3|                  5.42|                          0|\n",
      "|        Burkina Faso|      Western Africa|       820.17 |              5.34|       20321.38 |                           13.5|                  0.82|                         32|\n",
      "|          Cabo Verde|      Western Africa|      3572.55 |                 0|         549.94 |                            0.3|                  0.03|                          0|\n",
      "+--------------------+--------------------+--------------+------------------+----------------+-------------------------------+----------------------+---------------------------+\n",
      "only showing top 20 rows\n",
      "\n"
     ]
    }
   ],
   "source": [
    "data_for_analysis.show()"
   ]
  },
  {
   "cell_type": "code",
   "execution_count": null,
   "id": "2178d218",
   "metadata": {},
   "outputs": [],
   "source": [
    "# todo：统计一下地区有哪些，改成少的那几个"
   ]
  }
 ],
 "metadata": {
  "kernelspec": {
   "display_name": "Python 3 (ipykernel)",
   "language": "python",
   "name": "python3"
  },
  "language_info": {
   "codemirror_mode": {
    "name": "ipython",
    "version": 3
   },
   "file_extension": ".py",
   "mimetype": "text/x-python",
   "name": "python",
   "nbconvert_exporter": "python",
   "pygments_lexer": "ipython3",
   "version": "3.10.4"
  }
 },
 "nbformat": 4,
 "nbformat_minor": 5
}
